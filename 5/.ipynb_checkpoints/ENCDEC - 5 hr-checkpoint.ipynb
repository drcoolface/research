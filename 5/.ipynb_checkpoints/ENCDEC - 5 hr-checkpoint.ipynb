{
 "cells": [
  {
   "cell_type": "code",
   "execution_count": 1,
   "id": "0bef5877",
   "metadata": {},
   "outputs": [],
   "source": [
    "import numpy as np\n",
    "import pandas as pd\n",
    "import matplotlib.pyplot as plt\n",
    "import tensorflow as tf\n",
    "from keras.preprocessing.sequence import TimeseriesGenerator\n",
    "from keras.models import Sequential\n",
    "from keras.layers import *\n",
    "from tensorflow.keras.callbacks import EarlyStopping,ModelCheckpoint\n",
    "from tensorflow.keras.losses import MeanSquaredError\n",
    "from tensorflow.keras.metrics import RootMeanSquaredError\n",
    "from tensorflow.keras.metrics import MeanAbsolutePercentageError\n",
    "from tensorflow.keras.optimizers import Adam\n",
    "from tensorflow.keras.models import load_model"
   ]
  },
  {
   "cell_type": "code",
   "execution_count": 2,
   "id": "671f827a",
   "metadata": {},
   "outputs": [],
   "source": [
    "df = pd.read_csv('../finaldata.csv', sep=',').set_index('Date')\n"
   ]
  },
  {
   "cell_type": "code",
   "execution_count": 3,
   "id": "205b7b05",
   "metadata": {},
   "outputs": [],
   "source": [
    "b=df"
   ]
  },
  {
   "cell_type": "code",
   "execution_count": 4,
   "id": "60843e5a",
   "metadata": {
    "scrolled": true
   },
   "outputs": [
    {
     "data": {
      "text/html": [
       "<div>\n",
       "<style scoped>\n",
       "    .dataframe tbody tr th:only-of-type {\n",
       "        vertical-align: middle;\n",
       "    }\n",
       "\n",
       "    .dataframe tbody tr th {\n",
       "        vertical-align: top;\n",
       "    }\n",
       "\n",
       "    .dataframe thead th {\n",
       "        text-align: right;\n",
       "    }\n",
       "</style>\n",
       "<table border=\"1\" class=\"dataframe\">\n",
       "  <thead>\n",
       "    <tr style=\"text-align: right;\">\n",
       "      <th></th>\n",
       "      <th>T2M</th>\n",
       "      <th>QV2M</th>\n",
       "      <th>PRECTOTCORR</th>\n",
       "      <th>WS10M</th>\n",
       "      <th>Hour_sin</th>\n",
       "      <th>Hour_cos</th>\n",
       "      <th>Day_sin</th>\n",
       "      <th>Day_cos</th>\n",
       "    </tr>\n",
       "    <tr>\n",
       "      <th>Date</th>\n",
       "      <th></th>\n",
       "      <th></th>\n",
       "      <th></th>\n",
       "      <th></th>\n",
       "      <th></th>\n",
       "      <th></th>\n",
       "      <th></th>\n",
       "      <th></th>\n",
       "    </tr>\n",
       "  </thead>\n",
       "  <tbody>\n",
       "    <tr>\n",
       "      <th>2005-01-02 00:00:00</th>\n",
       "      <td>12.12</td>\n",
       "      <td>5.68</td>\n",
       "      <td>0.0</td>\n",
       "      <td>1.14</td>\n",
       "      <td>0.000000</td>\n",
       "      <td>1.000000</td>\n",
       "      <td>0.034422</td>\n",
       "      <td>0.999407</td>\n",
       "    </tr>\n",
       "    <tr>\n",
       "      <th>2005-01-02 01:00:00</th>\n",
       "      <td>11.80</td>\n",
       "      <td>5.62</td>\n",
       "      <td>0.0</td>\n",
       "      <td>1.26</td>\n",
       "      <td>0.258819</td>\n",
       "      <td>0.965926</td>\n",
       "      <td>0.034422</td>\n",
       "      <td>0.999407</td>\n",
       "    </tr>\n",
       "    <tr>\n",
       "      <th>2005-01-02 02:00:00</th>\n",
       "      <td>11.32</td>\n",
       "      <td>5.55</td>\n",
       "      <td>0.0</td>\n",
       "      <td>1.40</td>\n",
       "      <td>0.500000</td>\n",
       "      <td>0.866025</td>\n",
       "      <td>0.034422</td>\n",
       "      <td>0.999407</td>\n",
       "    </tr>\n",
       "    <tr>\n",
       "      <th>2005-01-02 03:00:00</th>\n",
       "      <td>11.03</td>\n",
       "      <td>5.43</td>\n",
       "      <td>0.0</td>\n",
       "      <td>1.53</td>\n",
       "      <td>0.707107</td>\n",
       "      <td>0.707107</td>\n",
       "      <td>0.034422</td>\n",
       "      <td>0.999407</td>\n",
       "    </tr>\n",
       "    <tr>\n",
       "      <th>2005-01-02 04:00:00</th>\n",
       "      <td>10.92</td>\n",
       "      <td>5.31</td>\n",
       "      <td>0.0</td>\n",
       "      <td>1.65</td>\n",
       "      <td>0.866025</td>\n",
       "      <td>0.500000</td>\n",
       "      <td>0.034422</td>\n",
       "      <td>0.999407</td>\n",
       "    </tr>\n",
       "    <tr>\n",
       "      <th>...</th>\n",
       "      <td>...</td>\n",
       "      <td>...</td>\n",
       "      <td>...</td>\n",
       "      <td>...</td>\n",
       "      <td>...</td>\n",
       "      <td>...</td>\n",
       "      <td>...</td>\n",
       "      <td>...</td>\n",
       "    </tr>\n",
       "    <tr>\n",
       "      <th>2022-11-15 01:00:00</th>\n",
       "      <td>12.45</td>\n",
       "      <td>7.45</td>\n",
       "      <td>0.0</td>\n",
       "      <td>0.76</td>\n",
       "      <td>0.258819</td>\n",
       "      <td>0.965926</td>\n",
       "      <td>0.255353</td>\n",
       "      <td>0.966848</td>\n",
       "    </tr>\n",
       "    <tr>\n",
       "      <th>2022-11-15 02:00:00</th>\n",
       "      <td>12.25</td>\n",
       "      <td>7.32</td>\n",
       "      <td>0.0</td>\n",
       "      <td>0.96</td>\n",
       "      <td>0.500000</td>\n",
       "      <td>0.866025</td>\n",
       "      <td>0.255353</td>\n",
       "      <td>0.966848</td>\n",
       "    </tr>\n",
       "    <tr>\n",
       "      <th>2022-11-15 03:00:00</th>\n",
       "      <td>11.83</td>\n",
       "      <td>7.20</td>\n",
       "      <td>0.0</td>\n",
       "      <td>1.06</td>\n",
       "      <td>0.707107</td>\n",
       "      <td>0.707107</td>\n",
       "      <td>0.255353</td>\n",
       "      <td>0.966848</td>\n",
       "    </tr>\n",
       "    <tr>\n",
       "      <th>2022-11-15 04:00:00</th>\n",
       "      <td>11.60</td>\n",
       "      <td>7.08</td>\n",
       "      <td>0.0</td>\n",
       "      <td>1.13</td>\n",
       "      <td>0.866025</td>\n",
       "      <td>0.500000</td>\n",
       "      <td>0.255353</td>\n",
       "      <td>0.966848</td>\n",
       "    </tr>\n",
       "    <tr>\n",
       "      <th>2022-11-15 05:00:00</th>\n",
       "      <td>11.69</td>\n",
       "      <td>6.96</td>\n",
       "      <td>0.0</td>\n",
       "      <td>1.22</td>\n",
       "      <td>0.965926</td>\n",
       "      <td>0.258819</td>\n",
       "      <td>0.255353</td>\n",
       "      <td>0.966848</td>\n",
       "    </tr>\n",
       "  </tbody>\n",
       "</table>\n",
       "<p>156630 rows × 8 columns</p>\n",
       "</div>"
      ],
      "text/plain": [
       "                       T2M  QV2M  PRECTOTCORR  WS10M  Hour_sin  Hour_cos  \\\n",
       "Date                                                                       \n",
       "2005-01-02 00:00:00  12.12  5.68          0.0   1.14  0.000000  1.000000   \n",
       "2005-01-02 01:00:00  11.80  5.62          0.0   1.26  0.258819  0.965926   \n",
       "2005-01-02 02:00:00  11.32  5.55          0.0   1.40  0.500000  0.866025   \n",
       "2005-01-02 03:00:00  11.03  5.43          0.0   1.53  0.707107  0.707107   \n",
       "2005-01-02 04:00:00  10.92  5.31          0.0   1.65  0.866025  0.500000   \n",
       "...                    ...   ...          ...    ...       ...       ...   \n",
       "2022-11-15 01:00:00  12.45  7.45          0.0   0.76  0.258819  0.965926   \n",
       "2022-11-15 02:00:00  12.25  7.32          0.0   0.96  0.500000  0.866025   \n",
       "2022-11-15 03:00:00  11.83  7.20          0.0   1.06  0.707107  0.707107   \n",
       "2022-11-15 04:00:00  11.60  7.08          0.0   1.13  0.866025  0.500000   \n",
       "2022-11-15 05:00:00  11.69  6.96          0.0   1.22  0.965926  0.258819   \n",
       "\n",
       "                      Day_sin   Day_cos  \n",
       "Date                                     \n",
       "2005-01-02 00:00:00  0.034422  0.999407  \n",
       "2005-01-02 01:00:00  0.034422  0.999407  \n",
       "2005-01-02 02:00:00  0.034422  0.999407  \n",
       "2005-01-02 03:00:00  0.034422  0.999407  \n",
       "2005-01-02 04:00:00  0.034422  0.999407  \n",
       "...                       ...       ...  \n",
       "2022-11-15 01:00:00  0.255353  0.966848  \n",
       "2022-11-15 02:00:00  0.255353  0.966848  \n",
       "2022-11-15 03:00:00  0.255353  0.966848  \n",
       "2022-11-15 04:00:00  0.255353  0.966848  \n",
       "2022-11-15 05:00:00  0.255353  0.966848  \n",
       "\n",
       "[156630 rows x 8 columns]"
      ]
     },
     "execution_count": 4,
     "metadata": {},
     "output_type": "execute_result"
    }
   ],
   "source": [
    "b"
   ]
  },
  {
   "cell_type": "code",
   "execution_count": 5,
   "id": "2a74a76c",
   "metadata": {},
   "outputs": [],
   "source": [
    "n_steps_out=5\n",
    "n_steps_in= 24\n",
    "n_features = 8"
   ]
  },
  {
   "cell_type": "code",
   "execution_count": 6,
   "id": "8c85652f",
   "metadata": {},
   "outputs": [],
   "source": [
    "# split a multivariate sequence into samples\n",
    "def split_sequences(df, n_steps_in, n_steps_out):\n",
    "    df_as_np = df.to_numpy()\n",
    "    X = []\n",
    "    y = []\n",
    "    for i in range(len(df_as_np)):\n",
    " # find the end of this pattern\n",
    "         end_ix = i + n_steps_in\n",
    "         out_end_ix = end_ix + n_steps_out\n",
    " # check if we are beyond the dataset\n",
    "         if out_end_ix > len(df_as_np):\n",
    "             break\n",
    " # gather input and output parts of the pattern\n",
    "         seq_x, seq_y = df_as_np[i:end_ix, :], df_as_np[end_ix:out_end_ix, :2]\n",
    "         X.append(seq_x)\n",
    "         y.append(seq_y)\n",
    "    return np.array(X), np.array(y)"
   ]
  },
  {
   "cell_type": "code",
   "execution_count": 7,
   "id": "9779cc01",
   "metadata": {
    "scrolled": true
   },
   "outputs": [
    {
     "data": {
      "text/plain": [
       "((156602, 24, 8), (156602, 5, 2))"
      ]
     },
     "execution_count": 7,
     "metadata": {},
     "output_type": "execute_result"
    }
   ],
   "source": [
    "X, y = split_sequences(b, n_steps_out=5,\n",
    "n_steps_in= 24)\n",
    "X.shape, y.shape"
   ]
  },
  {
   "cell_type": "code",
   "execution_count": 8,
   "id": "70625c2f",
   "metadata": {},
   "outputs": [
    {
     "name": "stdout",
     "output_type": "stream",
     "text": [
      "Given X = [ 1.21200000e+01  5.68000000e+00  0.00000000e+00  1.14000000e+00\n",
      "  0.00000000e+00  1.00000000e+00  3.44216116e-02  9.99407401e-01\n",
      "  1.18000000e+01  5.62000000e+00  0.00000000e+00  1.26000000e+00\n",
      "  2.58819045e-01  9.65925826e-01  3.44216116e-02  9.99407401e-01\n",
      "  1.13200000e+01  5.55000000e+00  0.00000000e+00  1.40000000e+00\n",
      "  5.00000000e-01  8.66025404e-01  3.44216116e-02  9.99407401e-01\n",
      "  1.10300000e+01  5.43000000e+00  0.00000000e+00  1.53000000e+00\n",
      "  7.07106781e-01  7.07106781e-01  3.44216116e-02  9.99407401e-01\n",
      "  1.09200000e+01  5.31000000e+00  0.00000000e+00  1.65000000e+00\n",
      "  8.66025404e-01  5.00000000e-01  3.44216116e-02  9.99407401e-01\n",
      "  1.10000000e+01  5.25000000e+00  0.00000000e+00  1.69000000e+00\n",
      "  9.65925826e-01  2.58819045e-01  3.44216116e-02  9.99407401e-01\n",
      "  1.10500000e+01  5.19000000e+00  0.00000000e+00  1.70000000e+00\n",
      "  1.00000000e+00  6.12323400e-17  3.44216116e-02  9.99407401e-01\n",
      "  1.14800000e+01  5.31000000e+00  0.00000000e+00  1.66000000e+00\n",
      "  9.65925826e-01 -2.58819045e-01  3.44216116e-02  9.99407401e-01\n",
      "  1.31800000e+01  6.53000000e+00  0.00000000e+00  1.45000000e+00\n",
      "  8.66025404e-01 -5.00000000e-01  3.44216116e-02  9.99407401e-01\n",
      "  1.56800000e+01  6.16000000e+00  0.00000000e+00  1.57000000e+00\n",
      "  7.07106781e-01 -7.07106781e-01  3.44216116e-02  9.99407401e-01\n",
      "  1.76200000e+01  5.80000000e+00  0.00000000e+00  2.09000000e+00\n",
      "  5.00000000e-01 -8.66025404e-01  3.44216116e-02  9.99407401e-01\n",
      "  1.90400000e+01  6.10000000e+00  0.00000000e+00  2.59000000e+00\n",
      "  2.58819045e-01 -9.65925826e-01  3.44216116e-02  9.99407401e-01\n",
      "  1.98900000e+01  6.35000000e+00  0.00000000e+00  3.08000000e+00\n",
      "  1.22464680e-16 -1.00000000e+00  3.44216116e-02  9.99407401e-01\n",
      "  2.01300000e+01  6.59000000e+00  0.00000000e+00  3.43000000e+00\n",
      " -2.58819045e-01 -9.65925826e-01  3.44216116e-02  9.99407401e-01\n",
      "  1.99000000e+01  6.71000000e+00  0.00000000e+00  3.59000000e+00\n",
      " -5.00000000e-01 -8.66025404e-01  3.44216116e-02  9.99407401e-01\n",
      "  1.89800000e+01  6.77000000e+00  0.00000000e+00  3.51000000e+00\n",
      " -7.07106781e-01 -7.07106781e-01  3.44216116e-02  9.99407401e-01\n",
      "  1.67500000e+01  7.57000000e+00  0.00000000e+00  2.48000000e+00\n",
      " -8.66025404e-01 -5.00000000e-01  3.44216116e-02  9.99407401e-01\n",
      "  1.28000000e+01  7.14000000e+00  0.00000000e+00  1.73000000e+00\n",
      " -9.65925826e-01 -2.58819045e-01  3.44216116e-02  9.99407401e-01\n",
      "  1.18300000e+01  6.53000000e+00  0.00000000e+00  1.16000000e+00\n",
      " -1.00000000e+00 -1.83697020e-16  3.44216116e-02  9.99407401e-01\n",
      "  1.13600000e+01  6.23000000e+00  0.00000000e+00  1.20000000e+00\n",
      " -9.65925826e-01  2.58819045e-01  3.44216116e-02  9.99407401e-01\n",
      "  1.10500000e+01  5.92000000e+00  0.00000000e+00  1.53000000e+00\n",
      " -8.66025404e-01  5.00000000e-01  3.44216116e-02  9.99407401e-01\n",
      "  1.09500000e+01  5.62000000e+00  0.00000000e+00  1.69000000e+00\n",
      " -7.07106781e-01  7.07106781e-01  3.44216116e-02  9.99407401e-01\n",
      "  1.07300000e+01  5.37000000e+00  0.00000000e+00  1.72000000e+00\n",
      " -5.00000000e-01  8.66025404e-01  3.44216116e-02  9.99407401e-01\n",
      "  1.07600000e+01  5.13000000e+00  0.00000000e+00  1.69000000e+00\n",
      " -2.58819045e-01  9.65925826e-01  3.44216116e-02  9.99407401e-01] \n",
      "\n",
      "we predict [10.7   4.88 10.64  4.7  10.68  4.46 10.52  4.21 10.06  4.03]\n"
     ]
    }
   ],
   "source": [
    "print(f'Given X = {X[0].flatten()} \\n')\n",
    "print(f'we predict {y[0].flatten()}')"
   ]
  },
  {
   "cell_type": "code",
   "execution_count": 9,
   "id": "c4d84637",
   "metadata": {
    "scrolled": true
   },
   "outputs": [
    {
     "data": {
      "text/plain": [
       "((135000, 24, 8),\n",
       " (135000, 5, 2),\n",
       " (15000, 24, 8),\n",
       " (15000, 5, 2),\n",
       " (6602, 24, 8),\n",
       " (6602, 5, 2))"
      ]
     },
     "execution_count": 9,
     "metadata": {},
     "output_type": "execute_result"
    }
   ],
   "source": [
    "X_train, y_train = X[:135000], y[:135000]\n",
    "X_val, y_val = X[135000:150000], y[135000:150000]\n",
    "X_test, y_test = X[150000:], y[150000:]\n",
    "X_train.shape, y_train.shape, X_val.shape, y_val.shape, X_test.shape, y_test.shape"
   ]
  },
  {
   "cell_type": "raw",
   "id": "467e44d1",
   "metadata": {},
   "source": [
    "## Model 1 : GRU"
   ]
  },
  {
   "cell_type": "code",
   "execution_count": 10,
   "id": "1b71be31",
   "metadata": {},
   "outputs": [
    {
     "name": "stdout",
     "output_type": "stream",
     "text": [
      "Model: \"sequential\"\n",
      "_________________________________________________________________\n",
      " Layer (type)                Output Shape              Param #   \n",
      "=================================================================\n",
      " gru (GRU)                   (None, 64)                14208     \n",
      "                                                                 \n",
      " repeat_vector (RepeatVector  (None, 5, 64)            0         \n",
      " )                                                               \n",
      "                                                                 \n",
      " gru_1 (GRU)                 (None, 5, 32)             9408      \n",
      "                                                                 \n",
      " time_distributed (TimeDistr  (None, 5, 2)             66        \n",
      " ibuted)                                                         \n",
      "                                                                 \n",
      "=================================================================\n",
      "Total params: 23,682\n",
      "Trainable params: 23,682\n",
      "Non-trainable params: 0\n",
      "_________________________________________________________________\n"
     ]
    }
   ],
   "source": [
    "model_enc_gru = Sequential()\n",
    "model_enc_gru.add(GRU(64, activation='relu', input_shape=(n_steps_in, n_features)))\n",
    "model_enc_gru.add(RepeatVector(n_steps_out))\n",
    "model_enc_gru.add(GRU(32, activation='relu', return_sequences=True))\n",
    "model_enc_gru.add(TimeDistributed(Dense(2)))\n",
    "model_enc_gru.summary()"
   ]
  },
  {
   "cell_type": "code",
   "execution_count": 11,
   "id": "0524e33f",
   "metadata": {},
   "outputs": [],
   "source": [
    "cp_gru = ModelCheckpoint('model_gru', save_best_only=True, monitor='val_loss')\n",
    "model_enc_gru.compile(loss='mean_absolute_percentage_error', optimizer=Adam(learning_rate=0.0001))"
   ]
  },
  {
   "cell_type": "code",
   "execution_count": null,
   "id": "27da188c",
   "metadata": {
    "scrolled": true
   },
   "outputs": [
    {
     "name": "stdout",
     "output_type": "stream",
     "text": [
      "Epoch 1/200\n",
      "4218/4219 [============================>.] - ETA: 0s - loss: 12.2186INFO:tensorflow:Assets written to: model_gru/assets\n",
      "4219/4219 [==============================] - 68s 15ms/step - loss: 12.2175 - val_loss: 7.0840\n",
      "Epoch 2/200\n",
      " 990/4219 [======>.......................] - ETA: 43s - loss: 6.4283"
     ]
    }
   ],
   "source": [
    "history = model_enc_gru.fit(X_train, y_train, batch_size = 32, shuffle=False, validation_data=(X_val, y_val), epochs=200, callbacks=[cp_gru,EarlyStopping(monitor='val_loss', patience=20)])"
   ]
  },
  {
   "cell_type": "code",
   "execution_count": null,
   "id": "1f030750",
   "metadata": {},
   "outputs": [],
   "source": [
    "print('hi')"
   ]
  },
  {
   "cell_type": "code",
   "execution_count": null,
   "id": "edcc727f",
   "metadata": {},
   "outputs": [],
   "source": [
    "plt.plot(history.history['loss'])\n",
    "plt.plot(history.history['val_loss'])\n",
    "plt.title('model loss')\n",
    "plt.ylabel('MAPE')\n",
    "plt.xlabel('epoch')\n",
    "plt.legend(['train', 'val'], loc='upper left')\n",
    "plt.show()\n",
    "plt.savefig('gru.jpeg')\n"
   ]
  },
  {
   "cell_type": "markdown",
   "id": "bcad40f3",
   "metadata": {},
   "source": [
    "MODEL LSTM"
   ]
  },
  {
   "cell_type": "code",
   "execution_count": null,
   "id": "3ebbac11",
   "metadata": {},
   "outputs": [],
   "source": [
    "model_enc_LSTM = Sequential()\n",
    "model_enc_LSTM.add(LSTM(64, activation='relu', input_shape=(n_steps_in, n_features)))\n",
    "model_enc_LSTM.add(RepeatVector(n_steps_out))\n",
    "model_enc_LSTM.add(LSTM(32, activation='relu', return_sequences=True))\n",
    "model_enc_LSTM.add(TimeDistributed(Dense(2)))\n",
    "model_enc_LSTM.summary()\n",
    "\n",
    "cp_lstm = ModelCheckpoint('model_lstm', save_best_only=True, monitor='val_loss')\n",
    "model_enc_LSTM.compile(loss='mean_absolute_percentage_error', optimizer=Adam(learning_rate=0.0001))\n",
    "history2 = model_enc_LSTM.fit(X_train, y_train, batch_size = 32, shuffle=False, validation_data=(X_val, y_val), epochs=200, callbacks=[cp_lstm,EarlyStopping(monitor='val_loss', patience=20)])\n"
   ]
  },
  {
   "cell_type": "code",
   "execution_count": null,
   "id": "238c72e2",
   "metadata": {},
   "outputs": [],
   "source": [
    "plt.plot(history2.history['loss'])\n",
    "plt.plot(history2.history['val_loss'])\n",
    "plt.title('model loss')\n",
    "plt.ylabel('MAPE')\n",
    "plt.xlabel('epoch')\n",
    "plt.legend(['train', 'val'], loc='upper left')\n",
    "plt.show()\n",
    "plt.savefig('lstm.png')"
   ]
  },
  {
   "cell_type": "markdown",
   "id": "fbdb25b2",
   "metadata": {},
   "source": [
    "MODEL BIDIRECTIONAL LSTM"
   ]
  },
  {
   "cell_type": "code",
   "execution_count": null,
   "id": "5ad980c8",
   "metadata": {},
   "outputs": [],
   "source": []
  }
 ],
 "metadata": {
  "kernelspec": {
   "display_name": "Python 3",
   "language": "python",
   "name": "python3"
  },
  "language_info": {
   "codemirror_mode": {
    "name": "ipython",
    "version": 3
   },
   "file_extension": ".py",
   "mimetype": "text/x-python",
   "name": "python",
   "nbconvert_exporter": "python",
   "pygments_lexer": "ipython3",
   "version": "3.8.5"
  }
 },
 "nbformat": 4,
 "nbformat_minor": 5
}
